{
 "cells": [
  {
   "cell_type": "markdown",
   "id": "65d04573",
   "metadata": {},
   "source": [
    "## 0. Setup Paths"
   ]
  },
  {
   "cell_type": "code",
   "execution_count": 1,
   "id": "3b37d521",
   "metadata": {},
   "outputs": [],
   "source": [
    "WORKSPACE_PATH = 'Tensorflow/workspace' # Path to our workspace\n",
    "SCRIPTS_PATH = 'Tensorflow/scripts' # Where generate tf record script is\n",
    "APIMODEL_PATH = 'Tensorflow/models' # tf objection detection library is downloaded here\n",
    "ANNOTATION_PATH = WORKSPACE_PATH + '/annotations' # label records and tf records\n",
    "IMAGE_PATH = WORKSPACE_PATH + '/images' # labelled images\n",
    "MODEL_PATH = WORKSPACE_PATH + '/models' # where trained model will be present\n",
    "PRETRAINED_MODEL_PATH = WORKSPACE_PATH + '/pre-trained-models' # Where our downloaded pre-trained model is saved\n",
    "CONFIG_PATH = MODEL_PATH + '/my_ssd_mobnet/pipeline.config' # tf object detection library has a config file containing information about Deep Learning Model to be used\n",
    "CHECKPOINT_PATH = MODEL_PATH + '/my_ssd_mobnet/' # All check-points are saved"
   ]
  },
  {
   "cell_type": "markdown",
   "id": "b9e85003",
   "metadata": {},
   "source": [
    "## 1. Create Label Map"
   ]
  },
  {
   "cell_type": "code",
   "execution_count": 2,
   "id": "c5b6a051",
   "metadata": {},
   "outputs": [],
   "source": [
    "# Categories in which images are labelled are set here\n",
    "labels = [{'name':'Mask','id':1},{'name':'NoMask','id':2}]"
   ]
  },
  {
   "cell_type": "code",
   "execution_count": 3,
   "id": "bbed735e",
   "metadata": {},
   "outputs": [
    {
     "data": {
      "text/plain": [
       "[{'name': 'Mask', 'id': 1}, {'name': 'NoMask', 'id': 2}]"
      ]
     },
     "execution_count": 3,
     "metadata": {},
     "output_type": "execute_result"
    }
   ],
   "source": [
    "labels"
   ]
  },
  {
   "cell_type": "code",
   "execution_count": 4,
   "id": "88bd4bd3",
   "metadata": {},
   "outputs": [],
   "source": [
    "with open(ANNOTATION_PATH + '\\label_map.pbtxt', 'w') as f:\n",
    "    for label in labels:\n",
    "        f.write('item { \\n')\n",
    "        f.write('\\tname:\\'{}\\'\\n'.format(label['name']))\n",
    "        f.write('\\tid:{}\\n'.format(label['id']))\n",
    "        f.write('}\\n')"
   ]
  },
  {
   "cell_type": "markdown",
   "id": "0292f35e",
   "metadata": {},
   "source": [
    "## 2. Create TF Records"
   ]
  },
  {
   "cell_type": "code",
   "execution_count": 5,
   "id": "cbe1695d",
   "metadata": {},
   "outputs": [],
   "source": [
    "#!pip install tensorflow-object-detection-api"
   ]
  },
  {
   "cell_type": "markdown",
   "id": "8beb47ad",
   "metadata": {},
   "source": [
    "Since I have Tensorflow==2.0, I made these changes to the following files:\n",
    "1. ***object_detection\\utils\\label_map_util.py*** `tf.gfile` is replaced by `tf.io.gfile` (line 132)\n",
    "2. ***generate_tfrecord.py*** in (line 61 & 62)\n",
    "\n",
    "    `label_map = label_map_util.load_labelmap(args.labels_path)`\n",
    "    \n",
    "    `label_map_dict = label_map_util.get_label_map_dict(label_map)`\n",
    "    \n",
    "    is replaced by a single statement\n",
    "    \n",
    "    `label_map_dict = label_map_util.get_label_map_dict(args.labels_path)`"
   ]
  },
  {
   "cell_type": "code",
   "execution_count": 6,
   "id": "b7ab1ca5",
   "metadata": {},
   "outputs": [
    {
     "name": "stdout",
     "output_type": "stream",
     "text": [
      "Successfully created the TFRecord file: Tensorflow/workspace/annotations/train.record\n"
     ]
    }
   ],
   "source": [
    "!python {SCRIPTS_PATH + '/generate_tfrecord.py'} -x {IMAGE_PATH + '/train'} -l {ANNOTATION_PATH + '/label_map.pbtxt'} -o {ANNOTATION_PATH + '/train.record'}"
   ]
  },
  {
   "cell_type": "code",
   "execution_count": 7,
   "id": "6356a3ed",
   "metadata": {},
   "outputs": [
    {
     "name": "stdout",
     "output_type": "stream",
     "text": [
      "Successfully created the TFRecord file: Tensorflow/workspace/annotations/test.record\n"
     ]
    }
   ],
   "source": [
    "!python {SCRIPTS_PATH + '/generate_tfrecord.py'} -x {IMAGE_PATH + '/test'} -l {ANNOTATION_PATH + '/label_map.pbtxt'} -o {ANNOTATION_PATH + '/test.record'}"
   ]
  },
  {
   "cell_type": "markdown",
   "id": "5cef531d",
   "metadata": {},
   "source": [
    "## 3. Download TF Models Pretrained Models from Tensorflow Model Zoo"
   ]
  },
  {
   "cell_type": "code",
   "execution_count": 8,
   "id": "8585bfff",
   "metadata": {},
   "outputs": [
    {
     "name": "stderr",
     "output_type": "stream",
     "text": [
      "fatal: destination path 'models' already exists and is not an empty directory.\n"
     ]
    }
   ],
   "source": [
    "# I cloned this repository using Git Application\n",
    "!cd Tensorflow && git clone https://github.com/tensorflow/models"
   ]
  },
  {
   "cell_type": "code",
   "execution_count": 9,
   "id": "5799bdc3",
   "metadata": {},
   "outputs": [
    {
     "name": "stdout",
     "output_type": "stream",
     "text": [
      "Requirement already satisfied: wget in c:\\users\\asus\\anaconda3\\lib\\site-packages (3.2)\n"
     ]
    }
   ],
   "source": [
    "!pip install wget"
   ]
  },
  {
   "cell_type": "code",
   "execution_count": 10,
   "id": "0485acb2",
   "metadata": {},
   "outputs": [
    {
     "name": "stdout",
     "output_type": "stream",
     "text": [
      "100% [........................................................................] 20515344 / 20515344"
     ]
    },
    {
     "name": "stderr",
     "output_type": "stream",
     "text": [
      "'mv' is not recognized as an internal or external command,\n",
      "operable program or batch file.\n",
      "x ssd_mobilenet_v2_fpnlite_320x320_coco17_tpu-8/\n",
      "x ssd_mobilenet_v2_fpnlite_320x320_coco17_tpu-8/checkpoint/\n",
      "x ssd_mobilenet_v2_fpnlite_320x320_coco17_tpu-8/checkpoint/ckpt-0.data-00000-of-00001\n",
      "x ssd_mobilenet_v2_fpnlite_320x320_coco17_tpu-8/checkpoint/checkpoint\n",
      "x ssd_mobilenet_v2_fpnlite_320x320_coco17_tpu-8/checkpoint/ckpt-0.index\n",
      "x ssd_mobilenet_v2_fpnlite_320x320_coco17_tpu-8/pipeline.config\n",
      "x ssd_mobilenet_v2_fpnlite_320x320_coco17_tpu-8/saved_model/\n",
      "x ssd_mobilenet_v2_fpnlite_320x320_coco17_tpu-8/saved_model/saved_model.pb\n",
      "x ssd_mobilenet_v2_fpnlite_320x320_coco17_tpu-8/saved_model/variables/\n",
      "x ssd_mobilenet_v2_fpnlite_320x320_coco17_tpu-8/saved_model/variables/variables.data-00000-of-00001\n",
      "x ssd_mobilenet_v2_fpnlite_320x320_coco17_tpu-8/saved_model/variables/variables.index\n"
     ]
    }
   ],
   "source": [
    "import wget\n",
    "wget.download('http://download.tensorflow.org/models/object_detection/tf2/20200711/ssd_mobilenet_v2_fpnlite_320x320_coco17_tpu-8.tar.gz')\n",
    "!mv ssd_mobilenet_v2_fpnlite_320x320_coco17_tpu-8.tar.gz {PRETRAINED_MODEL_PATH}\n",
    "!cd {PRETRAINED_MODEL_PATH} && tar -zxvf ssd_mobilenet_v2_fpnlite_320x320_coco17_tpu-8.tar.gz"
   ]
  },
  {
   "cell_type": "markdown",
   "id": "a15809c6",
   "metadata": {},
   "source": [
    "## 4. Copy Model Config to Training Folder "
   ]
  },
  {
   "cell_type": "code",
   "execution_count": 11,
   "id": "55daf038",
   "metadata": {},
   "outputs": [],
   "source": [
    " CUSTOM_MODEL_NAME = 'my_ssd_mobnet'"
   ]
  },
  {
   "cell_type": "markdown",
   "id": "e5092801",
   "metadata": {},
   "source": [
    "`cd` is replaced by `copy`\n",
    "Now what I am doing is copying pre-trained model to folder specified by `MODEL_PATH/my_ssd_mobnet`"
   ]
  },
  {
   "cell_type": "code",
   "execution_count": 16,
   "id": "cff950e6",
   "metadata": {},
   "outputs": [
    {
     "name": "stderr",
     "output_type": "stream",
     "text": [
      "A subdirectory or file Tensorflow\\workspace\\models\\my_ssd_mobnet already exists.\n"
     ]
    },
    {
     "name": "stdout",
     "output_type": "stream",
     "text": [
      "The syntax of the command is incorrect.\n"
     ]
    }
   ],
   "source": [
    "!mkdir {'Tensorflow\\workspace\\models\\\\' + CUSTOM_MODEL_NAME}\n",
    "!copy {PRETRAINED_MODEL_PATH + '/ssd_mobilenet_v2_fpnlite_320x320_coco17_tpu-8/pipeline.config'} {MODEL_PATH + '/' + CUSTOM_MODEL_NAME}"
   ]
  },
  {
   "cell_type": "markdown",
   "id": "2a7db07f",
   "metadata": {},
   "source": [
    "Hence above step was just a try"
   ]
  },
  {
   "cell_type": "markdown",
   "id": "6f053791",
   "metadata": {},
   "source": [
    "## 5. Update Config For Transfer Learning"
   ]
  },
  {
   "cell_type": "code",
   "execution_count": null,
   "id": "6dc11347",
   "metadata": {},
   "outputs": [],
   "source": []
  },
  {
   "cell_type": "code",
   "execution_count": null,
   "id": "8b6cf584",
   "metadata": {},
   "outputs": [],
   "source": []
  },
  {
   "cell_type": "code",
   "execution_count": null,
   "id": "568c4393",
   "metadata": {},
   "outputs": [],
   "source": []
  },
  {
   "cell_type": "code",
   "execution_count": null,
   "id": "6e75519a",
   "metadata": {},
   "outputs": [],
   "source": []
  },
  {
   "cell_type": "code",
   "execution_count": null,
   "id": "ee8b9579",
   "metadata": {},
   "outputs": [],
   "source": []
  }
 ],
 "metadata": {
  "kernelspec": {
   "display_name": "Python 3 (ipykernel)",
   "language": "python",
   "name": "python3"
  },
  "language_info": {
   "codemirror_mode": {
    "name": "ipython",
    "version": 3
   },
   "file_extension": ".py",
   "mimetype": "text/x-python",
   "name": "python",
   "nbconvert_exporter": "python",
   "pygments_lexer": "ipython3",
   "version": "3.9.12"
  }
 },
 "nbformat": 4,
 "nbformat_minor": 5
}
